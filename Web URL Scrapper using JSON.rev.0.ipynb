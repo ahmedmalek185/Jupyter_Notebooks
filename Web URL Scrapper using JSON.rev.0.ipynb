{
 "cells": [
  {
   "cell_type": "code",
   "execution_count": 1,
   "id": "8ec9802f",
   "metadata": {},
   "outputs": [],
   "source": [
    "#Using JSON\n",
    "import urllib.request, urllib.parse, urllib.error\n",
    "import json\n",
    "import ssl"
   ]
  },
  {
   "cell_type": "code",
   "execution_count": 2,
   "id": "d0e46bab",
   "metadata": {},
   "outputs": [],
   "source": [
    "# Ignore SSL certificate errors\n",
    "ctx = ssl.create_default_context()\n",
    "ctx.check_hostname = False\n",
    "ctx.verify_mode = ssl.CERT_NONE"
   ]
  },
  {
   "cell_type": "code",
   "execution_count": 3,
   "id": "9f038733",
   "metadata": {},
   "outputs": [
    {
     "name": "stdout",
     "output_type": "stream",
     "text": [
      "Enter URL: http://py4e-data.dr-chuck.net/comments_1638638.json\n"
     ]
    }
   ],
   "source": [
    "address = input('Enter URL: ')"
   ]
  },
  {
   "cell_type": "code",
   "execution_count": 4,
   "id": "ee9dbd9c",
   "metadata": {},
   "outputs": [],
   "source": [
    "uh = urllib.request.urlopen(address, context=ctx)\n",
    "data = uh.read().decode()\n",
    "info = json.loads(data)"
   ]
  },
  {
   "cell_type": "code",
   "execution_count": 5,
   "id": "5392f6d4",
   "metadata": {},
   "outputs": [
    {
     "name": "stdout",
     "output_type": "stream",
     "text": [
      "Name Mara\n",
      "count 98\n",
      "Name Tanchoma\n",
      "count 97\n",
      "Name Tilly\n",
      "count 96\n",
      "Name Nikiya\n",
      "count 95\n",
      "Name Alexei\n",
      "count 93\n",
      "Name Bronwen\n",
      "count 91\n",
      "Name Conlon\n",
      "count 90\n",
      "Name Nidba\n",
      "count 89\n",
      "Name Abbigail\n",
      "count 89\n",
      "Name Daysi\n",
      "count 85\n",
      "Name Gillian\n",
      "count 85\n",
      "Name Kinnon\n",
      "count 82\n",
      "Name Tokunbo\n",
      "count 82\n",
      "Name Darcey\n",
      "count 78\n",
      "Name Logan\n",
      "count 77\n",
      "Name Hristomir\n",
      "count 77\n",
      "Name Nawfal\n",
      "count 75\n",
      "Name Erynn\n",
      "count 72\n",
      "Name Caileen\n",
      "count 71\n",
      "Name Rabia\n",
      "count 70\n",
      "Name Malisa\n",
      "count 69\n",
      "Name Divine\n",
      "count 68\n",
      "Name Caoilfhinn\n",
      "count 67\n",
      "Name Dilano\n",
      "count 62\n",
      "Name Flynn\n",
      "count 61\n",
      "Name Surina\n",
      "count 58\n",
      "Name Vanya\n",
      "count 57\n",
      "Name Darach\n",
      "count 57\n",
      "Name Mathew\n",
      "count 55\n",
      "Name Mea\n",
      "count 53\n",
      "Name Leilani\n",
      "count 52\n",
      "Name Marius\n",
      "count 50\n",
      "Name Kainin\n",
      "count 47\n",
      "Name Alysia\n",
      "count 43\n",
      "Name Lina\n",
      "count 40\n",
      "Name Elgin\n",
      "count 38\n",
      "Name Joelle\n",
      "count 22\n",
      "Name Liesje\n",
      "count 21\n",
      "Name Kellan\n",
      "count 20\n",
      "Name Adele\n",
      "count 19\n",
      "Name Raees\n",
      "count 19\n",
      "Name Trassa\n",
      "count 18\n",
      "Name Zinto\n",
      "count 11\n",
      "Name Ailidh\n",
      "count 10\n",
      "Name Kady\n",
      "count 10\n",
      "Name Gracealexandra\n",
      "count 9\n",
      "Name Johnson\n",
      "count 9\n",
      "Name Shreeram\n",
      "count 6\n",
      "Name Loxi\n",
      "count 5\n",
      "Name Chelsey\n",
      "count 3\n"
     ]
    }
   ],
   "source": [
    "for item in info[\"comments\"]:\n",
    "    print('Name', item['name'])\n",
    "    print('count', item['count'])"
   ]
  },
  {
   "cell_type": "code",
   "execution_count": 6,
   "id": "832ef24e",
   "metadata": {},
   "outputs": [],
   "source": [
    "total=0"
   ]
  },
  {
   "cell_type": "code",
   "execution_count": 7,
   "id": "d9e7ec8e",
   "metadata": {},
   "outputs": [
    {
     "name": "stdout",
     "output_type": "stream",
     "text": [
      "2751\n"
     ]
    }
   ],
   "source": [
    "for numbers in info[\"comments\"]:\n",
    "    number=numbers['count']\n",
    "    total=total+int(number)\n",
    "print(total)"
   ]
  }
 ],
 "metadata": {
  "kernelspec": {
   "display_name": "Python 3 (ipykernel)",
   "language": "python",
   "name": "python3"
  },
  "language_info": {
   "codemirror_mode": {
    "name": "ipython",
    "version": 3
   },
   "file_extension": ".py",
   "mimetype": "text/x-python",
   "name": "python",
   "nbconvert_exporter": "python",
   "pygments_lexer": "ipython3",
   "version": "3.9.12"
  }
 },
 "nbformat": 4,
 "nbformat_minor": 5
}
