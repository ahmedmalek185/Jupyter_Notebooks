{
 "cells": [
  {
   "cell_type": "code",
   "execution_count": 3,
   "id": "3a18285a",
   "metadata": {},
   "outputs": [],
   "source": [
    "# To run this, download the BeautifulSoup zip file\n",
    "# http://www.py4e.com/code3/bs4.zip\n",
    "# and unzip it in the same directory as this file\n",
    "\n",
    "import urllib.request, urllib.parse, urllib.error\n",
    "from bs4 import BeautifulSoup\n",
    "import ssl"
   ]
  },
  {
   "cell_type": "code",
   "execution_count": 8,
   "id": "d8ff2dd8",
   "metadata": {
    "scrolled": true
   },
   "outputs": [
    {
     "name": "stdout",
     "output_type": "stream",
     "text": [
      "Enter website link -  http://py4e-data.dr-chuck.net/known_by_Aileigh.html\n",
      "Enter the position:18\n",
      "Enter the count:7\n"
     ]
    }
   ],
   "source": [
    "# Ignore SSL certificate errors\n",
    "ctx = ssl.create_default_context()\n",
    "ctx.check_hostname = False\n",
    "ctx.verify_mode = ssl.CERT_NONE\n",
    "\n",
    "ulist=list()\n",
    "url = input('Enter website link - ')\n",
    "x=int(input(\"Enter the position:\"))-1\n",
    "y=int(input(\"Enter the count:\"))\n"
   ]
  },
  {
   "cell_type": "code",
   "execution_count": 9,
   "id": "72923a16",
   "metadata": {},
   "outputs": [
    {
     "name": "stdout",
     "output_type": "stream",
     "text": [
      "http://py4e-data.dr-chuck.net/known_by_Harold.html\n",
      "http://py4e-data.dr-chuck.net/known_by_Kasra.html\n",
      "http://py4e-data.dr-chuck.net/known_by_Azzedine.html\n",
      "http://py4e-data.dr-chuck.net/known_by_Trudy.html\n",
      "http://py4e-data.dr-chuck.net/known_by_Penelope.html\n",
      "http://py4e-data.dr-chuck.net/known_by_Tammam.html\n",
      "http://py4e-data.dr-chuck.net/known_by_Farisya.html\n"
     ]
    }
   ],
   "source": [
    "html = urllib.request.urlopen(url, context=ctx).read()\n",
    "for i in range(y):\n",
    "    soup = BeautifulSoup(html, 'html.parser')\n",
    "    tags = soup('a')\n",
    "    for tag in tags:\n",
    "        ulist.append(tag.get('href', None))\n",
    "    print(ulist[x])\n",
    "    html = urllib.request.urlopen(ulist[x], context=ctx).read()\n",
    "    ulist.clear()\n",
    "    "
   ]
  },
  {
   "cell_type": "code",
   "execution_count": null,
   "id": "bfa536d8",
   "metadata": {},
   "outputs": [],
   "source": []
  }
 ],
 "metadata": {
  "kernelspec": {
   "display_name": "Python 3 (ipykernel)",
   "language": "python",
   "name": "python3"
  },
  "language_info": {
   "codemirror_mode": {
    "name": "ipython",
    "version": 3
   },
   "file_extension": ".py",
   "mimetype": "text/x-python",
   "name": "python",
   "nbconvert_exporter": "python",
   "pygments_lexer": "ipython3",
   "version": "3.9.12"
  }
 },
 "nbformat": 4,
 "nbformat_minor": 5
}
