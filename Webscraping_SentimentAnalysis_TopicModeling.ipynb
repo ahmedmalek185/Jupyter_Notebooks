{
 "cells": [
  {
   "cell_type": "code",
   "execution_count": 1,
   "id": "1676395d",
   "metadata": {},
   "outputs": [
    {
     "name": "stdout",
     "output_type": "stream",
     "text": [
      "Requirement already satisfied: tweepy in c:\\users\\ilter\\anaconda3\\lib\\site-packages (4.12.1)\n",
      "Requirement already satisfied: requests-oauthlib<2,>=1.2.0 in c:\\users\\ilter\\anaconda3\\lib\\site-packages (from tweepy) (1.3.1)\n",
      "Requirement already satisfied: requests<3,>=2.27.0 in c:\\users\\ilter\\anaconda3\\lib\\site-packages (from tweepy) (2.27.1)\n",
      "Requirement already satisfied: oauthlib<4,>=3.2.0 in c:\\users\\ilter\\anaconda3\\lib\\site-packages (from tweepy) (3.2.1)\n",
      "Requirement already satisfied: urllib3<1.27,>=1.21.1 in c:\\users\\ilter\\anaconda3\\lib\\site-packages (from requests<3,>=2.27.0->tweepy) (1.26.9)\n",
      "Requirement already satisfied: idna<4,>=2.5 in c:\\users\\ilter\\anaconda3\\lib\\site-packages (from requests<3,>=2.27.0->tweepy) (3.3)\n",
      "Requirement already satisfied: charset-normalizer~=2.0.0 in c:\\users\\ilter\\anaconda3\\lib\\site-packages (from requests<3,>=2.27.0->tweepy) (2.0.4)\n",
      "Requirement already satisfied: certifi>=2017.4.17 in c:\\users\\ilter\\anaconda3\\lib\\site-packages (from requests<3,>=2.27.0->tweepy) (2021.10.8)\n",
      "Note: you may need to restart the kernel to use updated packages.\n"
     ]
    },
    {
     "name": "stderr",
     "output_type": "stream",
     "text": [
      "\n",
      "[notice] A new release of pip available: 22.2.2 -> 22.3.1\n",
      "[notice] To update, run: python.exe -m pip install --upgrade pip\n"
     ]
    }
   ],
   "source": [
    "pip install tweepy"
   ]
  },
  {
   "cell_type": "code",
   "execution_count": 2,
   "id": "19be1e06",
   "metadata": {},
   "outputs": [
    {
     "name": "stdout",
     "output_type": "stream",
     "text": [
      "Requirement already satisfied: textblob in c:\\users\\ilter\\anaconda3\\lib\\site-packages (0.17.1)\n",
      "Requirement already satisfied: nltk>=3.1 in c:\\users\\ilter\\anaconda3\\lib\\site-packages (from textblob) (3.7)\n",
      "Requirement already satisfied: click in c:\\users\\ilter\\anaconda3\\lib\\site-packages (from nltk>=3.1->textblob) (8.0.4)\n",
      "Requirement already satisfied: joblib in c:\\users\\ilter\\anaconda3\\lib\\site-packages (from nltk>=3.1->textblob) (1.1.0)\n",
      "Requirement already satisfied: tqdm in c:\\users\\ilter\\anaconda3\\lib\\site-packages (from nltk>=3.1->textblob) (4.64.0)\n",
      "Requirement already satisfied: regex>=2021.8.3 in c:\\users\\ilter\\anaconda3\\lib\\site-packages (from nltk>=3.1->textblob) (2022.3.15)\n",
      "Requirement already satisfied: colorama in c:\\users\\ilter\\anaconda3\\lib\\site-packages (from click->nltk>=3.1->textblob) (0.4.4)\n",
      "Note: you may need to restart the kernel to use updated packages.\n"
     ]
    },
    {
     "name": "stderr",
     "output_type": "stream",
     "text": [
      "\n",
      "[notice] A new release of pip available: 22.2.2 -> 22.3.1\n",
      "[notice] To update, run: python.exe -m pip install --upgrade pip\n"
     ]
    }
   ],
   "source": [
    "pip install textblob"
   ]
  },
  {
   "cell_type": "code",
   "execution_count": 3,
   "id": "1255974e",
   "metadata": {},
   "outputs": [
    {
     "name": "stderr",
     "output_type": "stream",
     "text": [
      "\n",
      "[notice] A new release of pip available: 22.2.2 -> 22.3.1\n",
      "[notice] To update, run: python.exe -m pip install --upgrade pip\n"
     ]
    }
   ],
   "source": [
    "!pip install -q transformers tweepy matplotlib wordcloud"
   ]
  },
  {
   "cell_type": "code",
   "execution_count": 4,
   "id": "e18df008",
   "metadata": {},
   "outputs": [],
   "source": [
    "# Importing the libraries\n",
    "import configparser\n",
    "import tweepy\n",
    "import tqdm"
   ]
  },
  {
   "cell_type": "code",
   "execution_count": 6,
   "id": "cad476d3",
   "metadata": {},
   "outputs": [
    {
     "data": {
      "text/plain": [
       "['config.ini']"
      ]
     },
     "execution_count": 6,
     "metadata": {},
     "output_type": "execute_result"
    }
   ],
   "source": [
    "# PLEASE READ THE FOLLOWING EXPLANATION \n",
    "\n",
    "# User needs to create a config file in the following format\n",
    "#[twitter]\n",
    "#api_key = Enter your api_key here\n",
    "#api_key_secret = Enter your api_key_secret here\n",
    "#access_token = Enter your access_token here\n",
    "#access_token_secret = Enter your access_token_secret here\n",
    "\n",
    "#FOR OUR ANALYSIS WE ARE COLLECTING THE DATA AND SAVING IT AS A CSV. THEN WE ARE MANIPULATING THE DATA AND UPLOADING IT AGAIN FOR TH TOPIC MODELING. \n",
    "#THEREFORE, EVEN IF YOU DO NOT HAVE YOUR API_KEY YOU CAN USE OUR 'Twitter_After_Polarity_topicmodelling.xlsx' EXCEL FILE\n",
    "#WHICH IS SEPERATELY SHARED TO UPLOAD BELOW TO SEE THE TOPIC MODELING ANALYSIS\n",
    "\n",
    "config = configparser.ConfigParser()\n",
    "config.read('config.ini')"
   ]
  },
  {
   "cell_type": "code",
   "execution_count": 8,
   "id": "5dbc4172",
   "metadata": {},
   "outputs": [],
   "source": [
    "# Read the values\n",
    "api_key = config['twitter']['api_key']\n",
    "api_key_secret = config['twitter']['api_key_secret']\n",
    "access_token = config['twitter']['access_token']\n",
    "access_token_secret = config['twitter']['access_token_secret']"
   ]
  },
  {
   "cell_type": "code",
   "execution_count": 9,
   "id": "0b4c41ba",
   "metadata": {},
   "outputs": [],
   "source": [
    "# Authenticate\n",
    "auth = tweepy.OAuthHandler(api_key, api_key_secret)\n",
    "auth.set_access_token(access_token, access_token_secret)\n",
    "api = tweepy.API(auth)"
   ]
  },
  {
   "cell_type": "code",
   "execution_count": 10,
   "id": "abb0b88c",
   "metadata": {},
   "outputs": [
    {
     "data": {
      "text/plain": [
       "54886503"
      ]
     },
     "execution_count": 10,
     "metadata": {},
     "output_type": "execute_result"
    }
   ],
   "source": [
    "# using get_user with screen_name - Canada Goose\n",
    "put_your_screen_name = \"canadagoose\"\n",
    "user1 = api.get_user(screen_name=put_your_screen_name)\n",
    "user1.id"
   ]
  },
  {
   "cell_type": "code",
   "execution_count": 11,
   "id": "c9ce0b54",
   "metadata": {},
   "outputs": [],
   "source": [
    "import os\n",
    "import pandas as pd"
   ]
  },
  {
   "cell_type": "code",
   "execution_count": 12,
   "id": "ad13c79b",
   "metadata": {},
   "outputs": [],
   "source": [
    "#hashtags to scrape\n",
    "hashtag = [\"CanadaGoose\"]\n",
    "\n",
    "#to ensure there is tweet from different months\n",
    "date_interval = [\"2021-03-01\", \"2021-04-01\", \"2022-11-28\"]"
   ]
  },
  {
   "cell_type": "code",
   "execution_count": 13,
   "id": "7fd3e4c2",
   "metadata": {},
   "outputs": [
    {
     "name": "stderr",
     "output_type": "stream",
     "text": [
      "C:\\Users\\ilter\\AppData\\Local\\Temp\\ipykernel_14028\\3250594078.py:12: FutureWarning: The frame.append method is deprecated and will be removed from pandas in a future version. Use pandas.concat instead.\n",
      "  data = data.append(df)\n"
     ]
    }
   ],
   "source": [
    "data = None\n",
    "for i in range(len(date_interval)-1):\n",
    "    for hash in hashtag:\n",
    "        os.system(\n",
    "            f'snscrape --jsonl --progress --max-results 5000 --since {date_interval[i]} twitter-hashtag \"{hash} until:{date_interval[i+1]}\" > text-query-tweets.json')\n",
    "        tweets_df = pd.read_json('text-query-tweets.json', lines=True)\n",
    "        df = tweets_df[[\"id\", \"url\", \"date\", \"content\",\n",
    "                        \"hashtags\", \"cashtags\", \"media\", \"lang\"]]\n",
    "        if data is None:\n",
    "            data = df\n",
    "        else:\n",
    "            data = data.append(df)"
   ]
  },
  {
   "cell_type": "code",
   "execution_count": 15,
   "id": "d6c237ab",
   "metadata": {},
   "outputs": [
    {
     "name": "stdout",
     "output_type": "stream",
     "text": [
      "<class 'pandas.core.frame.DataFrame'>\n",
      "Int64Index: 4708 entries, 0 to 4406\n",
      "Data columns (total 8 columns):\n",
      " #   Column    Non-Null Count  Dtype              \n",
      "---  ------    --------------  -----              \n",
      " 0   id        4708 non-null   int64              \n",
      " 1   url       4708 non-null   object             \n",
      " 2   date      4708 non-null   datetime64[ns, UTC]\n",
      " 3   content   4708 non-null   object             \n",
      " 4   hashtags  4705 non-null   object             \n",
      " 5   cashtags  31 non-null     object             \n",
      " 6   media     2845 non-null   object             \n",
      " 7   lang      4708 non-null   object             \n",
      "dtypes: datetime64[ns, UTC](1), int64(1), object(6)\n",
      "memory usage: 331.0+ KB\n"
     ]
    }
   ],
   "source": [
    "data.info()"
   ]
  },
  {
   "cell_type": "code",
   "execution_count": 17,
   "id": "e8b4406f",
   "metadata": {},
   "outputs": [],
   "source": [
    "data.to_csv('CanadaGoose_data1.csv')"
   ]
  },
  {
   "cell_type": "code",
   "execution_count": 18,
   "id": "dbccdd3b",
   "metadata": {},
   "outputs": [],
   "source": [
    "import pandas as pd \n",
    "\n",
    "tweets = pd.read_excel('Twitter_After_Polarity_topicmodelling.xlsx')"
   ]
  },
  {
   "cell_type": "code",
   "execution_count": 19,
   "id": "38892ea1",
   "metadata": {},
   "outputs": [
    {
     "name": "stdout",
     "output_type": "stream",
     "text": [
      "Requirement already satisfied: pyLDAvis in c:\\users\\ilter\\anaconda3\\lib\\site-packages (3.3.1)\n",
      "Requirement already satisfied: numexpr in c:\\users\\ilter\\anaconda3\\lib\\site-packages (from pyLDAvis) (2.8.1)\n",
      "Requirement already satisfied: pandas>=1.2.0 in c:\\users\\ilter\\anaconda3\\lib\\site-packages (from pyLDAvis) (1.4.2)\n",
      "Requirement already satisfied: sklearn in c:\\users\\ilter\\anaconda3\\lib\\site-packages (from pyLDAvis) (0.0.post1)\n",
      "Requirement already satisfied: future in c:\\users\\ilter\\anaconda3\\lib\\site-packages (from pyLDAvis) (0.18.2)\n",
      "Requirement already satisfied: numpy>=1.20.0 in c:\\users\\ilter\\anaconda3\\lib\\site-packages (from pyLDAvis) (1.21.5)\n",
      "Requirement already satisfied: setuptools in c:\\users\\ilter\\anaconda3\\lib\\site-packages (from pyLDAvis) (61.2.0)\n",
      "Requirement already satisfied: scikit-learn in c:\\users\\ilter\\anaconda3\\lib\\site-packages (from pyLDAvis) (1.0.2)\n",
      "Requirement already satisfied: joblib in c:\\users\\ilter\\anaconda3\\lib\\site-packages (from pyLDAvis) (1.1.0)\n",
      "Requirement already satisfied: gensim in c:\\users\\ilter\\anaconda3\\lib\\site-packages (from pyLDAvis) (4.1.2)\n",
      "Requirement already satisfied: funcy in c:\\users\\ilter\\anaconda3\\lib\\site-packages (from pyLDAvis) (1.17)\n",
      "Requirement already satisfied: scipy in c:\\users\\ilter\\anaconda3\\lib\\site-packages (from pyLDAvis) (1.7.3)\n",
      "Requirement already satisfied: jinja2 in c:\\users\\ilter\\anaconda3\\lib\\site-packages (from pyLDAvis) (2.11.3)\n",
      "Requirement already satisfied: python-dateutil>=2.8.1 in c:\\users\\ilter\\anaconda3\\lib\\site-packages (from pandas>=1.2.0->pyLDAvis) (2.8.2)\n",
      "Requirement already satisfied: pytz>=2020.1 in c:\\users\\ilter\\anaconda3\\lib\\site-packages (from pandas>=1.2.0->pyLDAvis) (2021.3)\n",
      "Requirement already satisfied: smart-open>=1.8.1 in c:\\users\\ilter\\anaconda3\\lib\\site-packages (from gensim->pyLDAvis) (5.1.0)\n",
      "Requirement already satisfied: MarkupSafe>=0.23 in c:\\users\\ilter\\anaconda3\\lib\\site-packages (from jinja2->pyLDAvis) (2.0.1)\n",
      "Requirement already satisfied: packaging in c:\\users\\ilter\\anaconda3\\lib\\site-packages (from numexpr->pyLDAvis) (21.3)\n",
      "Requirement already satisfied: threadpoolctl>=2.0.0 in c:\\users\\ilter\\anaconda3\\lib\\site-packages (from scikit-learn->pyLDAvis) (2.2.0)\n",
      "Requirement already satisfied: six>=1.5 in c:\\users\\ilter\\anaconda3\\lib\\site-packages (from python-dateutil>=2.8.1->pandas>=1.2.0->pyLDAvis) (1.16.0)\n",
      "Requirement already satisfied: pyparsing!=3.0.5,>=2.0.2 in c:\\users\\ilter\\anaconda3\\lib\\site-packages (from packaging->numexpr->pyLDAvis) (3.0.4)\n"
     ]
    },
    {
     "name": "stderr",
     "output_type": "stream",
     "text": [
      "\n",
      "[notice] A new release of pip available: 22.2.2 -> 22.3.1\n",
      "[notice] To update, run: python.exe -m pip install --upgrade pip\n"
     ]
    }
   ],
   "source": [
    "!pip install pyLDAvis"
   ]
  },
  {
   "cell_type": "code",
   "execution_count": 20,
   "id": "ba5f7a7c",
   "metadata": {},
   "outputs": [],
   "source": [
    "import pyLDAvis\n",
    "import pyLDAvis.gensim_models as gensimvis\n",
    "import pyLDAvis.sklearn\n",
    "pyLDAvis.enable_notebook()\n",
    "\n",
    "\n",
    "from sklearn.feature_extraction.text import CountVectorizer, TfidfVectorizer\n",
    "from sklearn.decomposition import LatentDirichletAllocation"
   ]
  },
  {
   "cell_type": "code",
   "execution_count": 21,
   "id": "e90d250b",
   "metadata": {},
   "outputs": [
    {
     "name": "stdout",
     "output_type": "stream",
     "text": [
      "(3443, 263)\n"
     ]
    }
   ],
   "source": [
    "tf_vectorizer = CountVectorizer(strip_accents = 'unicode',\n",
    "                                stop_words = 'english',\n",
    "                                lowercase = True,\n",
    "                                token_pattern = r'\\b[a-zA-Z]{3,}\\b',\n",
    "                                max_df = 0.5, \n",
    "                                min_df = 10)\n",
    "dtm_tf = tf_vectorizer.fit_transform(tweets['cleaned_text'].values.astype('U'))\n",
    "print(dtm_tf.shape)"
   ]
  },
  {
   "cell_type": "code",
   "execution_count": 22,
   "id": "578ba347",
   "metadata": {},
   "outputs": [
    {
     "name": "stdout",
     "output_type": "stream",
     "text": [
      "(3443, 263)\n"
     ]
    },
    {
     "name": "stderr",
     "output_type": "stream",
     "text": [
      "C:\\Users\\ilter\\anaconda3\\lib\\site-packages\\sklearn\\feature_extraction\\text.py:2029: UserWarning: Only (<class 'numpy.float64'>, <class 'numpy.float32'>, <class 'numpy.float16'>) 'dtype' should be used. <class 'numpy.int64'> 'dtype' will be converted to np.float64.\n",
      "  warnings.warn(\n"
     ]
    }
   ],
   "source": [
    "tfidf_vectorizer = TfidfVectorizer(**tf_vectorizer.get_params())\n",
    "dtm_tfidf = tfidf_vectorizer.fit_transform(tweets['cleaned_text'].values.astype('U'))\n",
    "print(dtm_tfidf.shape)"
   ]
  },
  {
   "cell_type": "code",
   "execution_count": 23,
   "id": "07157275",
   "metadata": {},
   "outputs": [
    {
     "data": {
      "text/plain": [
       "LatentDirichletAllocation(n_components=3, random_state=50)"
      ]
     },
     "execution_count": 23,
     "metadata": {},
     "output_type": "execute_result"
    }
   ],
   "source": [
    "# for TF DTM\n",
    "lda_tf = LatentDirichletAllocation(n_components =3, random_state=50)\n",
    "lda_tf.fit(dtm_tf)\n",
    "# for TFIDF DTM\n",
    "lda_tfidf = LatentDirichletAllocation(n_components =3, random_state=50)\n",
    "lda_tfidf.fit(dtm_tfidf)"
   ]
  },
  {
   "cell_type": "code",
   "execution_count": 24,
   "id": "76708c8e",
   "metadata": {},
   "outputs": [
    {
     "name": "stdout",
     "output_type": "stream",
     "text": [
      "Top 10 words for topic #0:\n",
      "['plz', 'board', 'sign', 'change', 'nan', 'loving', 'items', 'share', 'good', 'check']\n",
      "\n",
      "\n",
      "Top 10 words for topic #1:\n",
      "['snacks', 'park', 'need', 'know', 'happy', 'macmillan', 'day', 'parka', 'goose', 'canada']\n",
      "\n",
      "\n",
      "Top 10 words for topic #2:\n",
      "['friends', 'amp', 'time', 'goslings', 'black', 'urge', 'ditch', 'new', 'jacket', 'geese']\n",
      "\n",
      "\n"
     ]
    },
    {
     "name": "stderr",
     "output_type": "stream",
     "text": [
      "C:\\Users\\ilter\\anaconda3\\lib\\site-packages\\sklearn\\utils\\deprecation.py:87: FutureWarning: Function get_feature_names is deprecated; get_feature_names is deprecated in 1.0 and will be removed in 1.2. Please use get_feature_names_out instead.\n",
      "  warnings.warn(msg, category=FutureWarning)\n"
     ]
    }
   ],
   "source": [
    "#for i,topic in enumerate(lda_tf.components_):\n",
    "#print([tfidf_vectorizer.get_feature_names()[i] for i in topic.argsort()[-10:]])\n",
    "#print('\\n')\n",
    "for i,topic in enumerate(lda_tf.components_):\n",
    "    print(f'Top 10 words for topic #{i}:')\n",
    "    print([tfidf_vectorizer.get_feature_names()[i] for i in topic.argsort()[-10:]])\n",
    "    print('\\n')"
   ]
  },
  {
   "cell_type": "code",
   "execution_count": 25,
   "id": "3667b13b",
   "metadata": {},
   "outputs": [
    {
     "name": "stderr",
     "output_type": "stream",
     "text": [
      "C:\\Users\\ilter\\anaconda3\\lib\\site-packages\\pyLDAvis\\_prepare.py:246: FutureWarning: In a future version of pandas all arguments of DataFrame.drop except for the argument 'labels' will be keyword-only.\n",
      "  default_term_info = default_term_info.sort_values(\n"
     ]
    },
    {
     "data": {
      "text/html": [
       "\n",
       "<link rel=\"stylesheet\" type=\"text/css\" href=\"https://cdn.jsdelivr.net/gh/bmabey/pyLDAvis@3.3.1/pyLDAvis/js/ldavis.v1.0.0.css\">\n",
       "\n",
       "\n",
       "<div id=\"ldavis_el1402820479019813766057713938\"></div>\n",
       "<script type=\"text/javascript\">\n",
       "\n",
       "var ldavis_el1402820479019813766057713938_data = {\"mdsDat\": {\"x\": [-0.3960488499825997, 0.20596305378533564, 0.19008579619726437], \"y\": [-0.006679201644490456, -0.2465735326734701, 0.25325273431796064], \"topics\": [1, 2, 3], \"cluster\": [1, 1, 1], \"Freq\": [35.395423358142054, 34.128186492781836, 30.47639014907611]}, \"tinfo\": {\"Term\": [\"canada\", \"goose\", \"good\", \"check\", \"share\", \"items\", \"loving\", \"nan\", \"geese\", \"day\", \"new\", \"ditch\", \"parka\", \"urge\", \"jacket\", \"macmillan\", \"happy\", \"goslings\", \"black\", \"friends\", \"laserbeak\", \"coat\", \"need\", \"know\", \"time\", \"fur\", \"north\", \"amp\", \"men\", \"photo\", \"good\", \"share\", \"items\", \"loving\", \"nan\", \"check\", \"change\", \"board\", \"plz\", \"minneapolis\", \"recreation\", \"production\", \"sign\", \"policy\", \"park\", \"travel\", \"picture\", \"hope\", \"lovely\", \"trying\", \"point\", \"non\", \"wild\", \"sunday\", \"animal\", \"seen\", \"lifestyle\", \"disruption\", \"shares\", \"enjoy\", \"street\", \"flight\", \"bag\", \"media\", \"stores\", \"feathers\", \"looking\", \"product\", \"cobra\", \"video\", \"taking\", \"link\", \"shop\", \"let\", \"fun\", \"weekend\", \"goose\", \"canada\", \"day\", \"macmillan\", \"happy\", \"need\", \"company\", \"river\", \"goos\", \"description\", \"wearing\", \"chinese\", \"fall\", \"special\", \"isnt\", \"built\", \"watching\", \"gosling\", \"weve\", \"consumers\", \"early\", \"toronto\", \"iconic\", \"nice\", \"afternoon\", \"crofton\", \"views\", \"island\", \"read\", \"return\", \"snacks\", \"know\", \"friend\", \"parka\", \"great\", \"store\", \"available\", \"park\", \"brand\", \"like\", \"collection\", \"today\", \"just\", \"canadian\", \"china\", \"geese\", \"ditch\", \"urge\", \"new\", \"goslings\", \"laserbeak\", \"friends\", \"coat\", \"fur\", \"north\", \"men\", \"photo\", \"morning\", \"free\", \"face\", \"duck\", \"love\", \"coats\", \"iii\", \"mcmurdo\", \"nwt\", \"rec\", \"got\", \"pond\", \"cleaning\", \"don\", \"jackets\", \"gray\", \"concepts\", \"asphalt\", \"black\", \"jacket\", \"time\", \"amp\", \"weekend\", \"canadian\", \"winter\", \"lake\", \"today\", \"family\", \"like\", \"just\", \"parka\"], \"Freq\": [885.0, 825.0, 742.0, 769.0, 736.0, 718.0, 717.0, 293.0, 234.0, 107.0, 86.0, 83.0, 168.0, 81.0, 103.0, 88.0, 75.0, 56.0, 60.0, 51.0, 49.0, 45.0, 50.0, 71.0, 64.0, 42.0, 40.0, 63.0, 39.0, 39.0, 742.127352721998, 736.3109845974168, 717.8919322224781, 716.9229928355659, 293.16378973799635, 763.8902898513653, 32.27679720557865, 30.3606660119958, 28.442042007972102, 27.473963980701637, 27.473963980701637, 9.301404398720473, 31.558837475672384, 27.782589468713972, 28.340450239253975, 1.7633378207487151, 0.6302264854522233, 0.33075170832372547, 0.32885197921875475, 0.3254061397100482, 0.3238658607715479, 0.3238065505752399, 0.32382305664334954, 0.32375529409746306, 0.3244825419474514, 0.3295024376896592, 0.32345566240150014, 0.3234317048283793, 0.3234317048283793, 0.3251411086615513, 0.32800547418271714, 0.32577209829040615, 0.32516522847073903, 0.32968076299543686, 0.3279565314328378, 0.324756586926963, 0.32869184212423014, 0.3258236122970887, 0.3260899030094001, 0.3273317333029753, 0.3272193564526858, 0.3273198768548642, 0.33003504781499565, 0.328395326810982, 0.3266367203735643, 0.3269968018235485, 824.4750590434561, 884.4042096398933, 106.96077657261053, 87.58794263079697, 74.94353128725959, 49.74811605079093, 37.11502425673023, 30.358718118395267, 29.398421254215457, 27.470968433943867, 28.386323167867236, 26.476297323628856, 24.516665905550425, 22.623795798574434, 22.623423684934618, 22.622124950580993, 20.652612471332848, 19.69919593121011, 18.745084426006184, 18.734358201970092, 17.731119360102735, 16.790206269100157, 15.832881322809069, 16.75975779334953, 15.808904681437948, 15.804624135829258, 14.86647875470698, 14.845351598956277, 14.836428058969343, 14.826758653018116, 45.77883230928344, 62.50515872342783, 20.812783907431726, 133.7142052321791, 40.192214170086075, 27.961655564027343, 27.354983204567763, 47.36721206959287, 27.927736372372244, 34.974011084202196, 28.099330134327737, 24.549879469111605, 23.034789628516634, 23.024941436805918, 21.504534108208567, 233.37656937977553, 82.35183164683615, 80.35151900938635, 86.1405070072039, 56.329157230284935, 49.29669828685725, 51.26145192972386, 45.30493937255115, 42.315251151791244, 40.32893663692299, 39.33710733641698, 39.330238832783884, 39.326300905001965, 36.32929802619816, 34.335484959789426, 30.33032536636358, 30.326695972738104, 29.334326084702244, 28.338814463137982, 28.338814463137982, 28.338814463137982, 28.338814463137982, 31.264633149698724, 27.308701539517376, 26.330500151353075, 27.296662650847992, 29.2458694072109, 25.33807368787285, 27.260611925798234, 24.33772713643819, 57.1136044956613, 93.89246649456676, 54.2878063811861, 52.34114447226062, 29.334720858717763, 40.930344887626696, 36.41554751311409, 37.04010015689056, 37.356132934433866, 31.351735396348065, 38.60546622497099, 32.91720219110394, 34.77020254940761], \"Total\": [885.0, 825.0, 742.0, 769.0, 736.0, 718.0, 717.0, 293.0, 234.0, 107.0, 86.0, 83.0, 168.0, 81.0, 103.0, 88.0, 75.0, 56.0, 60.0, 51.0, 49.0, 45.0, 50.0, 71.0, 64.0, 42.0, 40.0, 63.0, 39.0, 39.0, 742.7929377919918, 736.9747532502364, 718.5505627927162, 717.5808557254865, 293.8263511831763, 769.1139762251577, 32.980874323753106, 31.04064745113774, 29.10088801438743, 28.131195572817262, 28.131195572817262, 10.695703552050785, 47.00713753694241, 45.584729251859834, 83.6322720539778, 11.823595697095715, 14.907012205703895, 10.677544611538144, 10.676788165419033, 10.677630031995182, 10.677605165597528, 10.67672412937036, 10.67741860238174, 10.676219908509385, 10.705931148304707, 10.875231629883789, 10.676342022380863, 10.67607073818244, 10.67607073818244, 10.843764431424013, 10.982175156785889, 10.981617377830993, 10.98177008453067, 11.982034554234339, 11.695161312355813, 10.982162265103664, 12.616604028316067, 11.646039684619343, 11.982072754785127, 13.586649852403902, 13.772925194724873, 14.55635802630575, 26.627680252465687, 22.76450547033795, 13.843119128778014, 30.957424475061053, 825.1575333114721, 885.2798897635466, 107.63867117966963, 88.24567327660333, 75.64183870133695, 50.43127163941808, 37.82710757642005, 31.038775571870538, 30.068844579161574, 28.129263438752066, 29.100518293431996, 27.160419139923142, 25.221831666946773, 23.281129907423495, 23.281138247613193, 23.28118675435192, 21.342893026954474, 20.372681209273583, 19.40264730779559, 19.402989801898958, 18.4344093644931, 17.463905020771318, 16.49390793357895, 17.464833253199753, 16.49464133929488, 16.494746999170204, 15.524180322007266, 15.52484157494196, 15.525120983318953, 15.525422095561296, 50.55671925401043, 71.03375498397438, 22.338078109085828, 168.81006156184216, 45.731979005135585, 31.114558621315116, 31.13371018032716, 83.6322720539778, 46.11984323885924, 73.90487192328743, 48.11496913420973, 62.231137854404174, 56.2773539382669, 64.27993631935138, 37.32042786338178, 234.04466631791422, 83.00276860511849, 81.00221413062485, 86.99738081171957, 56.99498989032841, 49.99208782181674, 51.991552373821044, 45.99125068029656, 42.99074939390436, 40.990624075795395, 39.99060205706878, 39.99039152066566, 39.99027077293369, 36.98954524996437, 34.98919010388302, 30.98794205531397, 30.987830826667775, 29.987792229350795, 28.98765749754903, 28.98765749754903, 28.98765749754903, 28.98765749754903, 31.986201016051783, 27.986461926579796, 26.986857718689745, 27.986092980377904, 29.985080895504428, 25.98681744228905, 27.984987821771615, 24.986534378042624, 60.897514996541474, 103.71853638216591, 64.68937651906414, 63.66008656523875, 30.957424475061053, 64.27993631935138, 50.56686767237364, 57.373351116472904, 62.231137854404174, 38.77621012011425, 73.90487192328743, 56.2773539382669, 168.81006156184216], \"Category\": [\"Default\", \"Default\", \"Default\", \"Default\", \"Default\", \"Default\", \"Default\", \"Default\", \"Default\", \"Default\", \"Default\", \"Default\", \"Default\", \"Default\", \"Default\", \"Default\", \"Default\", \"Default\", \"Default\", \"Default\", \"Default\", \"Default\", \"Default\", \"Default\", \"Default\", \"Default\", \"Default\", \"Default\", \"Default\", \"Default\", \"Topic1\", \"Topic1\", \"Topic1\", \"Topic1\", \"Topic1\", \"Topic1\", \"Topic1\", \"Topic1\", \"Topic1\", \"Topic1\", \"Topic1\", \"Topic1\", \"Topic1\", \"Topic1\", \"Topic1\", \"Topic1\", \"Topic1\", \"Topic1\", \"Topic1\", \"Topic1\", \"Topic1\", \"Topic1\", \"Topic1\", \"Topic1\", \"Topic1\", \"Topic1\", \"Topic1\", \"Topic1\", \"Topic1\", \"Topic1\", \"Topic1\", \"Topic1\", \"Topic1\", \"Topic1\", \"Topic1\", \"Topic1\", \"Topic1\", \"Topic1\", \"Topic1\", \"Topic1\", \"Topic1\", \"Topic1\", \"Topic1\", \"Topic1\", \"Topic1\", \"Topic1\", \"Topic2\", \"Topic2\", \"Topic2\", \"Topic2\", \"Topic2\", \"Topic2\", \"Topic2\", \"Topic2\", \"Topic2\", \"Topic2\", \"Topic2\", \"Topic2\", \"Topic2\", \"Topic2\", \"Topic2\", \"Topic2\", \"Topic2\", \"Topic2\", \"Topic2\", \"Topic2\", \"Topic2\", \"Topic2\", \"Topic2\", \"Topic2\", \"Topic2\", \"Topic2\", \"Topic2\", \"Topic2\", \"Topic2\", \"Topic2\", \"Topic2\", \"Topic2\", \"Topic2\", \"Topic2\", \"Topic2\", \"Topic2\", \"Topic2\", \"Topic2\", \"Topic2\", \"Topic2\", \"Topic2\", \"Topic2\", \"Topic2\", \"Topic2\", \"Topic2\", \"Topic3\", \"Topic3\", \"Topic3\", \"Topic3\", \"Topic3\", \"Topic3\", \"Topic3\", \"Topic3\", \"Topic3\", \"Topic3\", \"Topic3\", \"Topic3\", \"Topic3\", \"Topic3\", \"Topic3\", \"Topic3\", \"Topic3\", \"Topic3\", \"Topic3\", \"Topic3\", \"Topic3\", \"Topic3\", \"Topic3\", \"Topic3\", \"Topic3\", \"Topic3\", \"Topic3\", \"Topic3\", \"Topic3\", \"Topic3\", \"Topic3\", \"Topic3\", \"Topic3\", \"Topic3\", \"Topic3\", \"Topic3\", \"Topic3\", \"Topic3\", \"Topic3\", \"Topic3\", \"Topic3\", \"Topic3\", \"Topic3\"], \"logprob\": [30.0, 29.0, 28.0, 27.0, 26.0, 25.0, 24.0, 23.0, 22.0, 21.0, 20.0, 19.0, 18.0, 17.0, 16.0, 15.0, 14.0, 13.0, 12.0, 11.0, 10.0, 9.0, 8.0, 7.0, 6.0, 5.0, 4.0, 3.0, 2.0, 1.0, -1.7558, -1.7637, -1.789, -1.7904, -2.6846, -1.7269, -4.891, -4.9522, -5.0175, -5.0521, -5.0521, -6.1352, -4.9135, -5.0409, -5.0211, -7.7981, -8.827, -9.4717, -9.4775, -9.488, -9.4928, -9.493, -9.4929, -9.4931, -9.4909, -9.4755, -9.494, -9.4941, -9.4941, -9.4888, -9.4801, -9.4869, -9.4888, -9.475, -9.4802, -9.49, -9.478, -9.4867, -9.4859, -9.4821, -9.4825, -9.4822, -9.4739, -9.4789, -9.4843, -9.4831, -1.6141, -1.544, -3.6564, -3.8562, -4.0122, -4.4219, -4.7149, -4.9158, -4.9479, -5.0158, -4.983, -5.0526, -5.1295, -5.2099, -5.2099, -5.21, -5.301, -5.3483, -5.398, -5.3985, -5.4536, -5.5081, -5.5668, -5.5099, -5.5683, -5.5686, -5.6298, -5.6312, -5.6318, -5.6325, -4.5051, -4.1936, -5.2933, -3.4332, -4.6352, -4.9981, -5.02, -4.471, -4.9993, -4.7743, -4.9931, -5.1282, -5.1919, -5.1923, -5.2606, -2.7631, -3.8047, -3.8293, -3.7597, -4.1845, -4.3179, -4.2788, -4.4023, -4.4706, -4.5186, -4.5435, -4.5437, -4.5438, -4.6231, -4.6795, -4.8036, -4.8037, -4.837, -4.8715, -4.8715, -4.8715, -4.8715, -4.7732, -4.9085, -4.945, -4.9089, -4.84, -4.9834, -4.9103, -5.0237, -4.1707, -3.6736, -4.2214, -4.2579, -4.8369, -4.5038, -4.6207, -4.6037, -4.5952, -4.7704, -4.5623, -4.7217, -4.667], \"loglift\": [30.0, 29.0, 28.0, 27.0, 26.0, 25.0, 24.0, 23.0, 22.0, 21.0, 20.0, 19.0, 18.0, 17.0, 16.0, 15.0, 14.0, 13.0, 12.0, 11.0, 10.0, 9.0, 8.0, 7.0, 6.0, 5.0, 4.0, 3.0, 2.0, 1.0, 1.0377, 1.0377, 1.0377, 1.0377, 1.0363, 1.0318, 1.017, 1.0164, 1.0157, 1.0149, 1.0149, 0.8989, 0.6401, 0.5434, -0.0436, -0.8643, -2.1249, -2.4359, -2.4416, -2.4522, -2.457, -2.4571, -2.4571, -2.4572, -2.4577, -2.4581, -2.4581, -2.4582, -2.4582, -2.4685, -2.4724, -2.4792, -2.4811, -2.5545, -2.5355, -2.4824, -2.6091, -2.5378, -2.5654, -2.6873, -2.7012, -2.7563, -3.3519, -3.2002, -2.7081, -3.5118, 1.0742, 1.0741, 1.0687, 1.0676, 1.0658, 1.0614, 1.056, 1.0529, 1.0525, 1.0514, 1.0502, 1.0495, 1.0467, 1.0464, 1.0464, 1.0463, 1.0422, 1.0414, 1.0406, 1.04, 1.0361, 1.0357, 1.0341, 1.0338, 1.0326, 1.0323, 1.0318, 1.0303, 1.0297, 1.029, 0.9758, 0.9471, 1.0043, 0.842, 0.9459, 0.9682, 0.9457, 0.5065, 0.5734, 0.3269, 0.5372, 0.1449, 0.1818, 0.0484, 0.5238, 1.1854, 1.1803, 1.1802, 1.1783, 1.1765, 1.1742, 1.1741, 1.1732, 1.1724, 1.1719, 1.1717, 1.1716, 1.1715, 1.1702, 1.1694, 1.1668, 1.1667, 1.1662, 1.1656, 1.1656, 1.1656, 1.1656, 1.1654, 1.1637, 1.1636, 1.1633, 1.1633, 1.1629, 1.162, 1.1619, 1.1241, 1.0887, 1.0129, 0.9924, 1.1344, 0.7368, 0.8599, 0.7506, 0.6779, 0.9757, 0.5388, 0.6519, -0.3918]}, \"token.table\": {\"Topic\": [2, 2, 3, 2, 3, 3, 2, 3, 3, 2, 3, 1, 2, 3, 2, 2, 3, 2, 3, 1, 1, 3, 2, 3, 2, 3, 3, 3, 3, 2, 3, 2, 3, 2, 2, 2, 2, 2, 3, 3, 3, 2, 2, 3, 3, 2, 2, 3, 3, 3, 3, 2, 3, 3, 2, 3, 3, 3, 1, 2, 2, 2, 3, 3, 3, 2, 3, 2, 2, 2, 3, 2, 2, 1, 2, 3, 3, 2, 3, 2, 3, 2, 3, 3, 2, 3, 2, 2, 3, 2, 2, 3, 2, 1, 2, 3, 3, 3, 1, 3, 1, 2, 2, 3, 2, 2, 3, 3, 1, 2, 3, 2, 3, 3, 1, 2, 3, 1, 2, 1, 2, 3, 2, 1, 3, 2, 3, 1, 2, 2, 2, 3, 1, 2, 2, 3, 1, 3, 2, 3, 2, 2, 3, 2, 3, 3, 2, 2, 3, 2, 3, 2, 3, 2, 1, 2, 3, 2, 3, 2, 2, 2, 2, 2, 3, 2, 2, 2, 3], \"Freq\": [0.97001199788949, 0.17279272764932888, 0.8168383488877365, 0.8406555091123632, 0.09340616767915146, 0.9605173585453468, 0.8672271901940175, 0.09635857668822416, 0.9106000146630617, 0.04926309390736843, 0.9359987842400002, 0.966474686045906, 0.6071139456174043, 0.39028753646833136, 0.9879221468682493, 0.9985542541083945, 0.0011295862603036136, 0.35780993754774276, 0.6378351060633676, 0.9702592989462783, 0.9933508213564688, 0.00650098705076223, 0.5894894903277905, 0.40192465249622084, 0.9572753596347325, 0.9634319145646106, 0.9784469727255922, 0.9670601882994245, 0.9180381579311535, 0.58193947754384, 0.41567105538845717, 0.978134527606979, 0.964802992660039, 0.9792305306546356, 0.9700057843145401, 0.9940665267169309, 0.9598544966806225, 0.936674198329868, 0.9879188535277768, 0.964764893010636, 0.9681185006235498, 0.976434863959904, 0.4610944872161332, 0.5533133846593599, 0.9717286938924248, 0.9912047756928977, 0.1805230572641475, 0.7994592535983674, 0.9105674965098147, 0.9106126771624168, 0.9732479747107644, 0.9400987809895079, 0.044766608618548, 0.9809285868848125, 0.36119027464017567, 0.6501424943523162, 0.9769543586033689, 0.9955364660329614, 0.9989324914768996, 0.9644534203385284, 0.9985971971838798, 0.9817068158361041, 0.9825425025560491, 0.9691679228940981, 0.962026229472672, 0.8746614703795806, 0.10933268379744758, 0.9915147660030955, 0.9365449046397811, 0.9700551297140787, 0.965928343894896, 0.9661934344122979, 0.987924205224716, 0.9992337869856001, 0.09641478128030613, 0.9062989440348777, 0.9671476325530901, 0.40869014604399684, 0.5863815138892129, 0.8869022905267103, 0.11262251308275686, 0.34859389613477965, 0.6448987078493423, 0.9801551032364808, 0.30749624713442464, 0.658920529573767, 0.9366503975834565, 0.47358176922801076, 0.5277053999969262, 0.9617790366724754, 0.951127575460703, 0.968121975617033, 0.9366112584671225, 0.9991905362011098, 0.9972160303448162, 0.965928343894896, 0.9180410847766002, 0.975229128692408, 0.9597885710228996, 0.9752372076059078, 0.9971876205798126, 0.991448329074435, 0.011494598925503379, 0.9885355075932906, 0.9733846154463233, 0.9366168760033076, 0.9758329106196666, 0.965928343894896, 0.33479898742830144, 0.5619840146117917, 0.09565685355094328, 0.793791547495587, 0.20733361315183244, 0.9752342629565439, 0.06708252372781773, 0.13416504745563546, 0.8049902847338127, 0.9621699511766393, 0.9365395933742968, 0.6142407876395934, 0.37293190678118177, 0.9647521744918062, 0.9445270922893597, 0.841459372560335, 0.09349548584003722, 0.9661760456563803, 0.965928343894896, 0.9597885710228996, 0.9661573068785347, 0.96653297197677, 0.3678082578957211, 0.6436644513175119, 0.9986773586938528, 0.936674198329868, 0.4506588589852402, 0.5633235737315503, 0.6807476837927334, 0.3191004767778438, 0.9098691663294792, 0.07911905794169384, 0.9879245591368891, 0.8999002795051227, 0.09641788708983458, 0.7695490262705138, 0.17101089472678085, 0.91056642761894, 0.9366611109264985, 0.5082435213313327, 0.4356373039982851, 0.15458488762916076, 0.834758393197468, 0.4017281518857962, 0.5945576647909784, 0.9734363522809156, 0.16915328054487427, 0.33830656108974855, 0.5074598416346229, 0.9365374123316986, 0.9876273242480919, 0.956821596289235, 0.9662345894511298, 0.9839340886672943, 0.962182175508524, 0.03230242880203386, 0.9367704352589818, 0.9792478159599481, 0.9365559572394555, 0.27686112754119957, 0.7119286136773704], \"Term\": [\"afternoon\", \"amp\", \"amp\", \"animal\", \"animal\", \"asphalt\", \"available\", \"available\", \"bag\", \"black\", \"black\", \"board\", \"brand\", \"brand\", \"built\", \"canada\", \"canada\", \"canadian\", \"canadian\", \"change\", \"check\", \"check\", \"china\", \"china\", \"chinese\", \"cleaning\", \"coat\", \"coats\", \"cobra\", \"collection\", \"collection\", \"company\", \"concepts\", \"consumers\", \"crofton\", \"day\", \"description\", \"disruption\", \"ditch\", \"don\", \"duck\", \"early\", \"enjoy\", \"enjoy\", \"face\", \"fall\", \"family\", \"family\", \"feathers\", \"flight\", \"free\", \"friend\", \"friend\", \"friends\", \"fun\", \"fun\", \"fur\", \"geese\", \"good\", \"goos\", \"goose\", \"gosling\", \"goslings\", \"got\", \"gray\", \"great\", \"great\", \"happy\", \"hope\", \"iconic\", \"iii\", \"island\", \"isnt\", \"items\", \"jacket\", \"jacket\", \"jackets\", \"just\", \"just\", \"know\", \"know\", \"lake\", \"lake\", \"laserbeak\", \"let\", \"let\", \"lifestyle\", \"like\", \"like\", \"link\", \"looking\", \"love\", \"lovely\", \"loving\", \"macmillan\", \"mcmurdo\", \"media\", \"men\", \"minneapolis\", \"morning\", \"nan\", \"need\", \"new\", \"new\", \"nice\", \"non\", \"north\", \"nwt\", \"park\", \"park\", \"park\", \"parka\", \"parka\", \"photo\", \"picture\", \"picture\", \"picture\", \"plz\", \"point\", \"policy\", \"policy\", \"pond\", \"product\", \"production\", \"production\", \"read\", \"rec\", \"recreation\", \"return\", \"river\", \"seen\", \"seen\", \"share\", \"shares\", \"shop\", \"shop\", \"sign\", \"sign\", \"snacks\", \"snacks\", \"special\", \"store\", \"store\", \"stores\", \"stores\", \"street\", \"sunday\", \"taking\", \"taking\", \"time\", \"time\", \"today\", \"today\", \"toronto\", \"travel\", \"travel\", \"travel\", \"trying\", \"urge\", \"video\", \"views\", \"watching\", \"wearing\", \"weekend\", \"weekend\", \"weve\", \"wild\", \"winter\", \"winter\"]}, \"R\": 30, \"lambda.step\": 0.01, \"plot.opts\": {\"xlab\": \"PC1\", \"ylab\": \"PC2\"}, \"topic.order\": [1, 2, 3]};\n",
       "\n",
       "function LDAvis_load_lib(url, callback){\n",
       "  var s = document.createElement('script');\n",
       "  s.src = url;\n",
       "  s.async = true;\n",
       "  s.onreadystatechange = s.onload = callback;\n",
       "  s.onerror = function(){console.warn(\"failed to load library \" + url);};\n",
       "  document.getElementsByTagName(\"head\")[0].appendChild(s);\n",
       "}\n",
       "\n",
       "if(typeof(LDAvis) !== \"undefined\"){\n",
       "   // already loaded: just create the visualization\n",
       "   !function(LDAvis){\n",
       "       new LDAvis(\"#\" + \"ldavis_el1402820479019813766057713938\", ldavis_el1402820479019813766057713938_data);\n",
       "   }(LDAvis);\n",
       "}else if(typeof define === \"function\" && define.amd){\n",
       "   // require.js is available: use it to load d3/LDAvis\n",
       "   require.config({paths: {d3: \"https://d3js.org/d3.v5\"}});\n",
       "   require([\"d3\"], function(d3){\n",
       "      window.d3 = d3;\n",
       "      LDAvis_load_lib(\"https://cdn.jsdelivr.net/gh/bmabey/pyLDAvis@3.3.1/pyLDAvis/js/ldavis.v3.0.0.js\", function(){\n",
       "        new LDAvis(\"#\" + \"ldavis_el1402820479019813766057713938\", ldavis_el1402820479019813766057713938_data);\n",
       "      });\n",
       "    });\n",
       "}else{\n",
       "    // require.js not available: dynamically load d3 & LDAvis\n",
       "    LDAvis_load_lib(\"https://d3js.org/d3.v5.js\", function(){\n",
       "         LDAvis_load_lib(\"https://cdn.jsdelivr.net/gh/bmabey/pyLDAvis@3.3.1/pyLDAvis/js/ldavis.v3.0.0.js\", function(){\n",
       "                 new LDAvis(\"#\" + \"ldavis_el1402820479019813766057713938\", ldavis_el1402820479019813766057713938_data);\n",
       "            })\n",
       "         });\n",
       "}\n",
       "</script>"
      ],
      "text/plain": [
       "PreparedData(topic_coordinates=              x         y  topics  cluster       Freq\n",
       "topic                                                \n",
       "0     -0.396049 -0.006679       1        1  35.395423\n",
       "1      0.205963 -0.246574       2        1  34.128186\n",
       "2      0.190086  0.253253       3        1  30.476390, topic_info=       Term        Freq       Total Category  logprob  loglift\n",
       "27   canada  885.000000  885.000000  Default  30.0000  30.0000\n",
       "92    goose  825.000000  825.000000  Default  29.0000  29.0000\n",
       "90     good  742.000000  742.000000  Default  28.0000  28.0000\n",
       "31    check  769.000000  769.000000  Default  27.0000  27.0000\n",
       "197   share  736.000000  736.000000  Default  26.0000  26.0000\n",
       "..      ...         ...         ...      ...      ...      ...\n",
       "227   today   37.356133   62.231138   Topic3  -4.5952   0.6779\n",
       "71   family   31.351735   38.776210   Topic3  -4.7704   0.9757\n",
       "122    like   38.605466   73.904872   Topic3  -4.5623   0.5388\n",
       "113    just   32.917202   56.277354   Topic3  -4.7217   0.6519\n",
       "164   parka   34.770203  168.810062   Topic3  -4.6670  -0.3918\n",
       "\n",
       "[164 rows x 6 columns], token_table=      Topic      Freq       Term\n",
       "term                            \n",
       "0         2  0.970012  afternoon\n",
       "2         2  0.172793        amp\n",
       "2         3  0.816838        amp\n",
       "3         2  0.840656     animal\n",
       "3         3  0.093406     animal\n",
       "...     ...       ...        ...\n",
       "251       3  0.936770    weekend\n",
       "253       2  0.979248       weve\n",
       "255       2  0.936556       wild\n",
       "258       2  0.276861     winter\n",
       "258       3  0.711929     winter\n",
       "\n",
       "[169 rows x 3 columns], R=30, lambda_step=0.01, plot_opts={'xlab': 'PC1', 'ylab': 'PC2'}, topic_order=[1, 2, 3])"
      ]
     },
     "execution_count": 25,
     "metadata": {},
     "output_type": "execute_result"
    }
   ],
   "source": [
    "pyLDAvis.sklearn.prepare(lda_tf, dtm_tf, tf_vectorizer)"
   ]
  },
  {
   "cell_type": "code",
   "execution_count": 26,
   "id": "76a83506",
   "metadata": {},
   "outputs": [],
   "source": [
    "tweets_1=tweets.replace({0:'', 1:'',2:''})"
   ]
  },
  {
   "cell_type": "code",
   "execution_count": 27,
   "id": "c0b13e65",
   "metadata": {},
   "outputs": [],
   "source": [
    "from matplotlib import pyplot as plt"
   ]
  },
  {
   "cell_type": "code",
   "execution_count": 28,
   "id": "ad58bcfe",
   "metadata": {},
   "outputs": [
    {
     "data": {
      "text/plain": [
       "(3443, 3)"
      ]
     },
     "execution_count": 28,
     "metadata": {},
     "output_type": "execute_result"
    }
   ],
   "source": [
    "topic_values = lda_tf.transform(dtm_tf)\n",
    "topic_values.shape"
   ]
  },
  {
   "cell_type": "code",
   "execution_count": 29,
   "id": "db267714",
   "metadata": {},
   "outputs": [],
   "source": [
    "tweets_1['Topic'] = topic_values.argmax(axis=1)"
   ]
  },
  {
   "cell_type": "code",
   "execution_count": 30,
   "id": "49eb0587",
   "metadata": {},
   "outputs": [],
   "source": [
    "tweets['Topic'] = topic_values.argmax(axis=1)"
   ]
  },
  {
   "cell_type": "code",
   "execution_count": 31,
   "id": "27d14cf9",
   "metadata": {},
   "outputs": [
    {
     "name": "stderr",
     "output_type": "stream",
     "text": [
      "C:\\Users\\ilter\\anaconda3\\lib\\site-packages\\seaborn\\rcmod.py:82: DeprecationWarning: distutils Version classes are deprecated. Use packaging.version instead.\n",
      "  if LooseVersion(mpl.__version__) >= \"3.0\":\n",
      "C:\\Users\\ilter\\anaconda3\\lib\\site-packages\\setuptools\\_distutils\\version.py:351: DeprecationWarning: distutils Version classes are deprecated. Use packaging.version instead.\n",
      "  other = LooseVersion(other)\n",
      "C:\\Users\\ilter\\anaconda3\\lib\\site-packages\\seaborn\\regression.py:592: UserWarning: legend_out is deprecated from the `lmplot` function signature. Please update your code to pass it using `facet_kws`.\n",
      "  warnings.warn(msg, UserWarning)\n"
     ]
    },
    {
     "data": {
      "text/plain": [
       "<Figure size 2880x1800 with 0 Axes>"
      ]
     },
     "metadata": {},
     "output_type": "display_data"
    },
    {
     "data": {
      "image/png": "[encoded data removed]",
      "text/plain": [
       "<Figure size 1080x360 with 3 Axes>"
      ]
     },
     "metadata": {
      "needs_background": "light"
     },
     "output_type": "display_data"
    }
   ],
   "source": [
    "import seaborn as sns\n",
    "\n",
    "\n",
    "plt.figure(figsize=(40,25)) \n",
    "\n",
    "g=sns.lmplot(x=\"Polarity\", y=\"Subjectivity\", hue='Topic', data=tweets, fit_reg=False, legend=False,palette=\"GnBu_d\", col='Topic', legend_out=True)\n",
    " \n",
    "# # Move the legend to an empty part of the plot\n",
    "# plt.legend(loc='lower right')\n",
    " \n",
    "plt.show()"
   ]
  },
  {
   "cell_type": "code",
   "execution_count": null,
   "id": "a1e4eecc",
   "metadata": {},
   "outputs": [],
   "source": []
  }
 ],
 "metadata": {
  "kernelspec": {
   "display_name": "Python 3 (ipykernel)",
   "language": "python",
   "name": "python3"
  },
  "language_info": {
   "codemirror_mode": {
    "name": "ipython",
    "version": 3
   },
   "file_extension": ".py",
   "mimetype": "text/x-python",
   "name": "python",
   "nbconvert_exporter": "python",
   "pygments_lexer": "ipython3",
   "version": "3.9.12"
  }
 },
 "nbformat": 4,
 "nbformat_minor": 5
}
